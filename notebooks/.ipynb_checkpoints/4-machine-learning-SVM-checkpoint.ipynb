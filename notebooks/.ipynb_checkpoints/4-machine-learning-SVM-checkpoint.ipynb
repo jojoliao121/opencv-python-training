{
 "cells": [
  {
   "cell_type": "code",
   "execution_count": 1,
   "metadata": {},
   "outputs": [],
   "source": [
    "import cv2\n",
    "import numpy as np"
   ]
  },
  {
   "cell_type": "code",
   "execution_count": 2,
   "metadata": {},
   "outputs": [],
   "source": [
    "mnist=cv2.imread(\"C:\\\\Users\\\\jojo.b.liao\\\\opencv-python-training\\\\assets\\\\fashion.png\", 0)\n",
    "cv2.imshow('mnist', mnist)\n",
    "cv2.waitKey(0)\n",
    "cv2.destroyAllWindows()"
   ]
  },
  {
   "cell_type": "code",
   "execution_count": 3,
   "metadata": {},
   "outputs": [
    {
     "data": {
      "text/plain": [
       "(840, 840)"
      ]
     },
     "execution_count": 3,
     "metadata": {},
     "output_type": "execute_result"
    }
   ],
   "source": [
    "mnist.shape"
   ]
  },
  {
   "cell_type": "code",
   "execution_count": 4,
   "metadata": {},
   "outputs": [
    {
     "name": "stdout",
     "output_type": "stream",
     "text": [
      "(30, 30, 28, 28)\n"
     ]
    }
   ],
   "source": [
    "#split the images\n",
    "\n",
    "images=[np.hsplit(row,30) for row in np.vsplit(mnist,30)]\n",
    "images=np.array(images, dtype=np.float32)\n",
    "print(images.shape)\n"
   ]
  },
  {
   "cell_type": "code",
   "execution_count": 10,
   "metadata": {},
   "outputs": [],
   "source": [
    "#split into train/test\n",
    "\n",
    "test_features=images[:, 15:30].reshape(-1, (28*28))\n",
    "train_features=images[:, :15].reshape(-1, (28*28))"
   ]
  },
  {
   "cell_type": "code",
   "execution_count": 11,
   "metadata": {},
   "outputs": [],
   "source": [
    "#create labels\n",
    "k=np.arange(10)\n",
    "train_labels=np.repeat(k, 45).reshape(-1,1)\n",
    "test_labels=train_labels.copy()"
   ]
  },
  {
   "cell_type": "code",
   "execution_count": 12,
   "metadata": {},
   "outputs": [],
   "source": [
    "#create KNN model\n",
    "knn=cv2.ml.KNearest_create()"
   ]
  },
  {
   "cell_type": "code",
   "execution_count": 13,
   "metadata": {},
   "outputs": [],
   "source": [
    "#train the KNN model\n",
    "knn.train(train_features,cv2.ml.ROW_SAMPLE, train_labels)\n",
    "ret, result, neighbors, dist =knn.findNearest(test_features, 3)\n",
    "\n"
   ]
  },
  {
   "cell_type": "code",
   "execution_count": 14,
   "metadata": {},
   "outputs": [],
   "source": [
    "#check if the results are correct\n",
    "matches=np.equal(result, test_labels)\n",
    "\n",
    "#convert bool to int\n",
    "matches=matches.astype(np.int)\n",
    "\n",
    "#count the correct predictions\n",
    "correct=np.count_nonzero(matches)\n",
    "\n",
    "#compute the accuracy\n",
    "accuracy=(correct*100.00)/result.size"
   ]
  },
  {
   "cell_type": "code",
   "execution_count": 15,
   "metadata": {},
   "outputs": [
    {
     "name": "stdout",
     "output_type": "stream",
     "text": [
      "Accuracy: 70.88888888888889\n"
     ]
    }
   ],
   "source": [
    "print('Accuracy: {}'.format(accuracy))"
   ]
  },
  {
   "cell_type": "code",
   "execution_count": null,
   "metadata": {},
   "outputs": [],
   "source": []
  }
 ],
 "metadata": {
  "kernelspec": {
   "display_name": "Python 3",
   "language": "python",
   "name": "python3"
  },
  "language_info": {
   "codemirror_mode": {
    "name": "ipython",
    "version": 3
   },
   "file_extension": ".py",
   "mimetype": "text/x-python",
   "name": "python",
   "nbconvert_exporter": "python",
   "pygments_lexer": "ipython3",
   "version": "3.6.5"
  }
 },
 "nbformat": 4,
 "nbformat_minor": 2
}
